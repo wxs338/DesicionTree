{
 "cells": [
  {
   "cell_type": "markdown",
   "metadata": {
    "collapsed": true
   },
   "source": [
    "'''\n",
    "\n",
    "General Instructions: There are 3 problems. Each problem is worth 60 points. From canvas, you can download (i) the data files for the problems referred to in the questions below and (ii) utility code we have made available to parse these files. Each problem will have the following files:\n",
    "• A “problem.names” file, which will list the attributes, their types and values. One attribute will be an “example-id” attribute which will be useful for identifying examples, but which you will not use when learning.\n",
    "• A “problem.data” file, which will list all the examples and their class labels.\n",
    "• A “problem.info” file, which gives additional information about the problem, such as how the data was generated. This is for your information only and does not affect the implementation in any way.\n",
    "Please read all the questions before you start implementation, because some of the later questions build on the previous ones. Try to build modular and flexible frameworks to make implementing the later questions easier.\n",
    "Your programs must be written in MATLAB or Python. You may not use external libraries that implement any significant component of the problems. You may not reference open source code, or copy snippets from other code not written by you. Besides standard system libraries, you can use libraries that give you access to data structures or libraries for math operations (like numpy or scipy) or libraries for optimization (like cvxopt). If in doubt, you must ask first before using a library.\n",
    "Your code must be efficient, cleanly written and easy to understand. It should handle errors and corner cases properly. You will lose points if the TAs cannot follow the logic easily or if your code breaks during testing. Note that we will test your code on data other than what is provided. Your code should work on standard installations of (one of) python 3 and MATLAB 8 or above.\n",
    "Your commits are due on csevcs.case.edu by 11:59pm on the due dates specified after the question. You will receive a 10% bonus for any commit turned in a week or more in advance of the due date. You must notify us of such a commit by email. You can use one late day each week (up to Saturday 11:59pm) with a penalty of 20%. Submissions after Saturday 11:59pm for any week will not be graded. Other bonus points may be awarded for well-written and commented, easy to read, clean and efficient code.\n",
    "We will use the git logs to ensure that each person contributes equally to all assignments. Therefore, any code written by you must be clearly logged under your own name/network ID by git. You will not receive credit for code committed by anyone other than yourself even if you wrote it, or if we cannot make out who committed the code. There will be NO exceptions to this rule.\n",
    "The redmine system used by csevcs has issues with some Unicode characters. Please ensure your git names use only standard ASCII characters.\n",
    "1. In this problem, you will implement and evaluate a decision tree learning algorithm. Due dates: First commit 9/27: 30 points, Final commit 10/4: 30 points.\n",
    "a. Decision Tree Learner (40 points)\n",
    "Implement the ID3 decision tree algorithm discussed in class. Your implementation should be able to handle nominal and continuous attributes, and use both information gain and gain ratio as the split criterion (depending on a provided option below). You will also need to implement stratified cross validation as described below. The main file should be called dtree.\n",
    "Your code should take four options.\n",
    "1. Option 1 is the path to the data. If this is “/a/b/someproblem” then you will load “/a/b/someproblem.names” and “/a/b/someproblem.data”.\n",
    "2. Option 2 is a 0/1 option. If 0, use cross validation. If 1, run the algorithm on the full sample.\n",
    "3. Option 3 is a nonnegative integer that sets the maximum depth of the tree (the number of tests on any path from root to leaf). If this value is zero, you should grow the full tree. If this value is positive, grow the tree to the given value. Note that if this value is too large, it will have the same effect as when the option is zero.\n",
    "4. Option 4 is a 0/1 option. If 0, use information gain as the split criterion. If 1, use gain ratio.\n",
    "When your code is run, it should first construct 5 folds using stratified cross validation if this option is provided. To ensure repeatability, set the random seed for the PRNG to 12345. Then it should produce decision trees on each fold (or the sample according to the option) and report the following.\n",
    "b. Output format\n",
    "When your code is run on any problem, it must produce output in the following format:\n",
    "Accuracy: 0.xyz\n",
    "Size: xyz\n",
    "Maximum Depth: xyz\n",
    "First Feature: <name>\n",
    "“Accuracy” is the (average) fraction of examples in the test sets (if cross validating) or training set (if not) that were correctly classified by the learned decision tree. “Size” is the size of the tree in number of nodes, and maximum depth is the length of the longest sequence of tests from root to leaf. The “First Feature” is the name of the first feature that was used to partition the data, or “None” if the tree was empty. (In MATLAB, you can output the index of the feature instead of the name.)\n",
    "c. '''"
   ]
  }
 ],
 "metadata": {
  "kernelspec": {
   "display_name": "Python 2",
   "language": "python",
   "name": "python2"
  },
  "language_info": {
   "codemirror_mode": {
    "name": "ipython",
    "version": 2
   },
   "file_extension": ".py",
   "mimetype": "text/x-python",
   "name": "python",
   "nbconvert_exporter": "python",
   "pygments_lexer": "ipython2",
   "version": "2.7.6"
  }
 },
 "nbformat": 4,
 "nbformat_minor": 0
}
